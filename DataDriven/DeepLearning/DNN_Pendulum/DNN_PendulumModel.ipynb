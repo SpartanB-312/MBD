{
 "cells": [
  {
   "cell_type": "code",
   "execution_count": 2,
   "metadata": {},
   "outputs": [],
   "source": [
    "import torch\n",
    "import torch.nn as nn\n",
    "import torch.nn.functional as Fun\n",
    "import torchvision\n",
    "import torchvision.transforms as transforms\n",
    "import matplotlib.pyplot as plt\n",
    "from torch.utils.data import DataLoader\n",
    "from torch.utils.data import TensorDataset\n",
    "from sklearn.metrics import mean_squared_error, r2_score, mean_absolute_error"
   ]
  },
  {
   "cell_type": "code",
   "execution_count": 3,
   "metadata": {},
   "outputs": [],
   "source": [
    "# try running the following code, if you see errors on Windows OS\n",
    "import os\n",
    "os.environ['KMP_DUPLICATE_LIB_OK']='TRUE'"
   ]
  },
  {
   "cell_type": "code",
   "execution_count": 4,
   "metadata": {},
   "outputs": [
    {
     "data": {
      "text/html": [
       "<div>\n",
       "<style scoped>\n",
       "    .dataframe tbody tr th:only-of-type {\n",
       "        vertical-align: middle;\n",
       "    }\n",
       "\n",
       "    .dataframe tbody tr th {\n",
       "        vertical-align: top;\n",
       "    }\n",
       "\n",
       "    .dataframe thead th {\n",
       "        text-align: right;\n",
       "    }\n",
       "</style>\n",
       "<table border=\"1\" class=\"dataframe\">\n",
       "  <thead>\n",
       "    <tr style=\"text-align: right;\">\n",
       "      <th></th>\n",
       "      <th>0</th>\n",
       "      <th>1</th>\n",
       "      <th>2</th>\n",
       "      <th>3</th>\n",
       "      <th>4</th>\n",
       "      <th>5</th>\n",
       "      <th>6</th>\n",
       "      <th>7</th>\n",
       "      <th>8</th>\n",
       "      <th>9</th>\n",
       "      <th>...</th>\n",
       "      <th>111</th>\n",
       "      <th>112</th>\n",
       "      <th>113</th>\n",
       "      <th>114</th>\n",
       "      <th>115</th>\n",
       "      <th>116</th>\n",
       "      <th>117</th>\n",
       "      <th>118</th>\n",
       "      <th>119</th>\n",
       "      <th>120</th>\n",
       "    </tr>\n",
       "  </thead>\n",
       "  <tbody>\n",
       "    <tr>\n",
       "      <th>0</th>\n",
       "      <td>30.000</td>\n",
       "      <td>30.000</td>\n",
       "      <td>30.000</td>\n",
       "      <td>30.000</td>\n",
       "      <td>30.000</td>\n",
       "      <td>30.000</td>\n",
       "      <td>30.000</td>\n",
       "      <td>30.000</td>\n",
       "      <td>30.000</td>\n",
       "      <td>30.000</td>\n",
       "      <td>...</td>\n",
       "      <td>30.000</td>\n",
       "      <td>30.000</td>\n",
       "      <td>30.000</td>\n",
       "      <td>30.000</td>\n",
       "      <td>30.000</td>\n",
       "      <td>30.000</td>\n",
       "      <td>30.000</td>\n",
       "      <td>30.000</td>\n",
       "      <td>30.000</td>\n",
       "      <td>30.000</td>\n",
       "    </tr>\n",
       "    <tr>\n",
       "      <th>1</th>\n",
       "      <td>30.000</td>\n",
       "      <td>30.000</td>\n",
       "      <td>30.000</td>\n",
       "      <td>30.000</td>\n",
       "      <td>30.000</td>\n",
       "      <td>30.000</td>\n",
       "      <td>30.000</td>\n",
       "      <td>30.000</td>\n",
       "      <td>30.000</td>\n",
       "      <td>30.000</td>\n",
       "      <td>...</td>\n",
       "      <td>30.000</td>\n",
       "      <td>30.000</td>\n",
       "      <td>30.000</td>\n",
       "      <td>30.000</td>\n",
       "      <td>30.000</td>\n",
       "      <td>30.000</td>\n",
       "      <td>30.000</td>\n",
       "      <td>30.000</td>\n",
       "      <td>30.000</td>\n",
       "      <td>30.000</td>\n",
       "    </tr>\n",
       "    <tr>\n",
       "      <th>2</th>\n",
       "      <td>30.000</td>\n",
       "      <td>30.000</td>\n",
       "      <td>30.000</td>\n",
       "      <td>30.000</td>\n",
       "      <td>30.000</td>\n",
       "      <td>30.000</td>\n",
       "      <td>30.000</td>\n",
       "      <td>30.000</td>\n",
       "      <td>30.000</td>\n",
       "      <td>30.000</td>\n",
       "      <td>...</td>\n",
       "      <td>30.000</td>\n",
       "      <td>30.000</td>\n",
       "      <td>30.000</td>\n",
       "      <td>30.000</td>\n",
       "      <td>30.000</td>\n",
       "      <td>30.000</td>\n",
       "      <td>30.000</td>\n",
       "      <td>30.000</td>\n",
       "      <td>30.000</td>\n",
       "      <td>30.000</td>\n",
       "    </tr>\n",
       "    <tr>\n",
       "      <th>3</th>\n",
       "      <td>29.999</td>\n",
       "      <td>29.999</td>\n",
       "      <td>29.999</td>\n",
       "      <td>29.999</td>\n",
       "      <td>29.999</td>\n",
       "      <td>29.999</td>\n",
       "      <td>29.999</td>\n",
       "      <td>29.999</td>\n",
       "      <td>29.999</td>\n",
       "      <td>29.999</td>\n",
       "      <td>...</td>\n",
       "      <td>29.999</td>\n",
       "      <td>29.999</td>\n",
       "      <td>29.999</td>\n",
       "      <td>29.999</td>\n",
       "      <td>29.999</td>\n",
       "      <td>29.999</td>\n",
       "      <td>29.999</td>\n",
       "      <td>29.999</td>\n",
       "      <td>29.999</td>\n",
       "      <td>29.999</td>\n",
       "    </tr>\n",
       "    <tr>\n",
       "      <th>4</th>\n",
       "      <td>29.998</td>\n",
       "      <td>29.998</td>\n",
       "      <td>29.998</td>\n",
       "      <td>29.999</td>\n",
       "      <td>29.999</td>\n",
       "      <td>29.999</td>\n",
       "      <td>29.999</td>\n",
       "      <td>29.999</td>\n",
       "      <td>29.999</td>\n",
       "      <td>29.999</td>\n",
       "      <td>...</td>\n",
       "      <td>29.999</td>\n",
       "      <td>29.999</td>\n",
       "      <td>29.999</td>\n",
       "      <td>29.999</td>\n",
       "      <td>29.999</td>\n",
       "      <td>29.999</td>\n",
       "      <td>29.999</td>\n",
       "      <td>29.999</td>\n",
       "      <td>29.999</td>\n",
       "      <td>29.999</td>\n",
       "    </tr>\n",
       "  </tbody>\n",
       "</table>\n",
       "<p>5 rows × 121 columns</p>\n",
       "</div>"
      ],
      "text/plain": [
       "      0       1       2       3       4       5       6       7       8    \\\n",
       "0  30.000  30.000  30.000  30.000  30.000  30.000  30.000  30.000  30.000   \n",
       "1  30.000  30.000  30.000  30.000  30.000  30.000  30.000  30.000  30.000   \n",
       "2  30.000  30.000  30.000  30.000  30.000  30.000  30.000  30.000  30.000   \n",
       "3  29.999  29.999  29.999  29.999  29.999  29.999  29.999  29.999  29.999   \n",
       "4  29.998  29.998  29.998  29.999  29.999  29.999  29.999  29.999  29.999   \n",
       "\n",
       "      9    ...     111     112     113     114     115     116     117  \\\n",
       "0  30.000  ...  30.000  30.000  30.000  30.000  30.000  30.000  30.000   \n",
       "1  30.000  ...  30.000  30.000  30.000  30.000  30.000  30.000  30.000   \n",
       "2  30.000  ...  30.000  30.000  30.000  30.000  30.000  30.000  30.000   \n",
       "3  29.999  ...  29.999  29.999  29.999  29.999  29.999  29.999  29.999   \n",
       "4  29.999  ...  29.999  29.999  29.999  29.999  29.999  29.999  29.999   \n",
       "\n",
       "      118     119     120  \n",
       "0  30.000  30.000  30.000  \n",
       "1  30.000  30.000  30.000  \n",
       "2  30.000  30.000  30.000  \n",
       "3  29.999  29.999  29.999  \n",
       "4  29.999  29.999  29.999  \n",
       "\n",
       "[5 rows x 121 columns]"
      ]
     },
     "execution_count": 4,
     "metadata": {},
     "output_type": "execute_result"
    }
   ],
   "source": [
    "import pandas as pd\n",
    "import numpy as np\n",
    "\n",
    "# File to Load (Remember to Change These)\n",
    "file_to_load = \"data\\PendulumData.csv\"\n",
    "\n",
    "# Read Purchasing File and store into Pandas data frame\n",
    "pendulum_csv = pd.read_csv(file_to_load,header=None)\n",
    "pendulum_csv.head()"
   ]
  },
  {
   "cell_type": "code",
   "execution_count": 5,
   "metadata": {},
   "outputs": [
    {
     "data": {
      "text/plain": [
       "array([[0.97673377, 0.97777956, 0.9786896 , ..., 0.99377518, 0.99393889,\n",
       "        0.99408616],\n",
       "       [0.97673377, 0.97777956, 0.9786896 , ..., 0.99377518, 0.99393889,\n",
       "        0.99408616],\n",
       "       [0.97673377, 0.97777956, 0.9786896 , ..., 0.99377518, 0.99393889,\n",
       "        0.99408616],\n",
       "       ...,\n",
       "       [0.01776548, 0.2461711 , 0.55136801, ..., 0.37159699, 0.47960198,\n",
       "        0.58019195],\n",
       "       [0.0172378 , 0.24487344, 0.54995106, ..., 0.37080279, 0.47880264,\n",
       "        0.57942547],\n",
       "       [0.0167261 , 0.24357578, 0.54853411, ..., 0.37000859, 0.47800495,\n",
       "        0.57865733]])"
      ]
     },
     "execution_count": 5,
     "metadata": {},
     "output_type": "execute_result"
    }
   ],
   "source": [
    "from sklearn.preprocessing import MinMaxScaler\n",
    "mms = MinMaxScaler()\n",
    "pendulum_csv=mms.fit_transform(pendulum_csv.iloc[:])\n",
    "pendulum_csv"
   ]
  },
  {
   "cell_type": "code",
   "execution_count": 6,
   "metadata": {},
   "outputs": [],
   "source": [
    "nm=11\n",
    "nl=11\n",
    "m0=1\n",
    "l0=1\n",
    "deltal=0.1\n",
    "deltam=0.1\n",
    "t=np.arange(0,5/5,0.001/5)\n",
    "l_np=np.arange(l0-l0,nl*deltal/l0,deltal)\n",
    "m_np=np.arange(m0-m0,nm*deltam/m0,deltam)\n",
    "\n",
    "X=[]\n",
    "Y=[]\n",
    "for i in range(1,nl+1):\n",
    "    for j in range(1,nm+1):\n",
    "        preX=np.column_stack((t,l_np[i-1].repeat(len(t)),m_np[j-1].repeat(len(t))))\n",
    "        X.append(preX)\n",
    "        Y.append(pendulum_csv[:,nl*(i-1)+j-1])\n",
    "X_array=np.array(X)\n",
    "X=X_array.reshape(605000,3)\n",
    "Y_array=np.array(Y)\n",
    "Y=Y_array.reshape(605000,1)"
   ]
  },
  {
   "cell_type": "code",
   "execution_count": 7,
   "metadata": {},
   "outputs": [
    {
     "data": {
      "text/plain": [
       "(torch.Size([605000, 3]), torch.Size([605000, 1]))"
      ]
     },
     "execution_count": 7,
     "metadata": {},
     "output_type": "execute_result"
    }
   ],
   "source": [
    "X = torch.tensor(X, dtype=torch.float)\n",
    "Y = torch.tensor(Y, dtype=torch.float)\n",
    "X.shape, Y.shape"
   ]
  },
  {
   "cell_type": "code",
   "execution_count": 8,
   "metadata": {},
   "outputs": [],
   "source": [
    "#import random\n",
    "#index = [i for i in range(len(Y))] \n",
    "#random.shuffle(index)\n",
    "#X = X[index,:]\n",
    "#Y = Y[index,:]"
   ]
  },
  {
   "cell_type": "code",
   "execution_count": 9,
   "metadata": {},
   "outputs": [],
   "source": [
    "#N=-10000\n",
    "#X_train, X_test = X[:N], X[N:]\n",
    "#Y_train, Y_test = Y[:N], Y[N:]\n",
    "N=2\n",
    "X_test = X[N*5000:(N+1)*5000]\n",
    "Y_test = Y[N*5000:(N+1)*5000]\n",
    "#X_test = X\n",
    "#Y_test = Y"
   ]
  },
  {
   "cell_type": "code",
   "execution_count": 10,
   "metadata": {},
   "outputs": [
    {
     "name": "stdout",
     "output_type": "stream",
     "text": [
      "Using cuda device\n"
     ]
    }
   ],
   "source": [
    "device = \"cuda\" if torch.cuda.is_available() else \"cpu\"\n",
    "print(f\"Using {device} device\")"
   ]
  },
  {
   "cell_type": "code",
   "execution_count": 11,
   "metadata": {},
   "outputs": [],
   "source": [
    "class MyDNN(nn.Module):\n",
    "    def __init__(self, input_size, hiddens=[256, 256, 256]):\n",
    "        super().__init__()\n",
    "        self.hiddens = hiddens\n",
    "        self.net = nn.Sequential(nn.Flatten())\n",
    "        for pre, nxt in zip([input_size]+hiddens[:-1], hiddens):\n",
    "            self.net.add_module(str(len(self.net)),nn.Linear(pre, nxt))\n",
    "            self.net.add_module(str(len(self.net)),nn.ReLU())\n",
    "        self.net.add_module(str(len(self.net)),nn.Linear(hiddens[-1], 1))\n",
    "        \n",
    "    def forward(self, x):\n",
    "        return self.net(x)"
   ]
  },
  {
   "cell_type": "code",
   "execution_count": 12,
   "metadata": {},
   "outputs": [],
   "source": [
    "modelDNN=torch.load('modelDNN.pth')"
   ]
  },
  {
   "cell_type": "code",
   "execution_count": 13,
   "metadata": {},
   "outputs": [
    {
     "name": "stdout",
     "output_type": "stream",
     "text": [
      "R2 0.9983860563468017 \n",
      "RMSE 0.84056336 \n",
      "MAE 0.6919061 \n",
      "CV 0.026281068\n"
     ]
    },
    {
     "data": {
      "image/png": "[encoded data removed]",
      "text/plain": [
       "<Figure size 432x288 with 1 Axes>"
      ]
     },
     "metadata": {
      "needs_background": "light"
     },
     "output_type": "display_data"
    }
   ],
   "source": [
    "sc = 60\n",
    "Yr_test=Y_test.numpy()\n",
    "Yr_test=Yr_test*sc\n",
    "\n",
    "pred=modelDNN(X_test.to(device)).cpu().detach().numpy()*sc\n",
    "\n",
    "plt.plot(Yr_test)\n",
    "plt.plot(pred)\n",
    "\n",
    "R2=r2_score(Yr_test,pred)\n",
    "MSE=mean_squared_error(Yr_test,pred)\n",
    "MAE=mean_absolute_error(Yr_test,pred)\n",
    "RMSE=np.sqrt(MSE)\n",
    "CV=RMSE/np.mean(Yr_test)\n",
    "\n",
    "print('R2',R2,'\\nRMSE',RMSE,'\\nMAE',MAE,'\\nCV',CV)"
   ]
  }
 ],
 "metadata": {
  "kernelspec": {
   "display_name": "Python 3",
   "language": "python",
   "name": "python3"
  },
  "language_info": {
   "codemirror_mode": {
    "name": "ipython",
    "version": 3
   },
   "file_extension": ".py",
   "mimetype": "text/x-python",
   "name": "python",
   "nbconvert_exporter": "python",
   "pygments_lexer": "ipython3",
   "version": "3.8.7"
  }
 },
 "nbformat": 4,
 "nbformat_minor": 2
}
