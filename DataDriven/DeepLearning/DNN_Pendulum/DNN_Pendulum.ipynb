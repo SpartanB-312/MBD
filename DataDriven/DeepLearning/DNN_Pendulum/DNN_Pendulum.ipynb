{
 "cells": [
  {
   "cell_type": "code",
   "execution_count": 1,
   "metadata": {},
   "outputs": [],
   "source": [
    "import torch\n",
    "import torch.nn as nn\n",
    "import torch.nn.functional as Fun\n",
    "import torchvision\n",
    "import torchvision.transforms as transforms\n",
    "import matplotlib.pyplot as plt\n",
    "from torch.utils.data import DataLoader\n",
    "from torch.utils.data import TensorDataset\n",
    "from sklearn.metrics import mean_squared_error, r2_score, mean_absolute_error"
   ]
  },
  {
   "cell_type": "code",
   "execution_count": 2,
   "metadata": {},
   "outputs": [],
   "source": [
    "# try running the following code, if you see errors on Windows OS\n",
    "import os\n",
    "os.environ['KMP_DUPLICATE_LIB_OK']='TRUE'"
   ]
  },
  {
   "cell_type": "code",
   "execution_count": 3,
   "metadata": {},
   "outputs": [
    {
     "data": {
      "text/html": [
       "<div>\n",
       "<style scoped>\n",
       "    .dataframe tbody tr th:only-of-type {\n",
       "        vertical-align: middle;\n",
       "    }\n",
       "\n",
       "    .dataframe tbody tr th {\n",
       "        vertical-align: top;\n",
       "    }\n",
       "\n",
       "    .dataframe thead th {\n",
       "        text-align: right;\n",
       "    }\n",
       "</style>\n",
       "<table border=\"1\" class=\"dataframe\">\n",
       "  <thead>\n",
       "    <tr style=\"text-align: right;\">\n",
       "      <th></th>\n",
       "      <th>0</th>\n",
       "      <th>1</th>\n",
       "      <th>2</th>\n",
       "      <th>3</th>\n",
       "      <th>4</th>\n",
       "      <th>5</th>\n",
       "      <th>6</th>\n",
       "      <th>7</th>\n",
       "      <th>8</th>\n",
       "      <th>9</th>\n",
       "      <th>...</th>\n",
       "      <th>111</th>\n",
       "      <th>112</th>\n",
       "      <th>113</th>\n",
       "      <th>114</th>\n",
       "      <th>115</th>\n",
       "      <th>116</th>\n",
       "      <th>117</th>\n",
       "      <th>118</th>\n",
       "      <th>119</th>\n",
       "      <th>120</th>\n",
       "    </tr>\n",
       "  </thead>\n",
       "  <tbody>\n",
       "    <tr>\n",
       "      <th>0</th>\n",
       "      <td>30.000</td>\n",
       "      <td>30.000</td>\n",
       "      <td>30.000</td>\n",
       "      <td>30.000</td>\n",
       "      <td>30.000</td>\n",
       "      <td>30.000</td>\n",
       "      <td>30.000</td>\n",
       "      <td>30.000</td>\n",
       "      <td>30.000</td>\n",
       "      <td>30.000</td>\n",
       "      <td>...</td>\n",
       "      <td>30.000</td>\n",
       "      <td>30.000</td>\n",
       "      <td>30.000</td>\n",
       "      <td>30.000</td>\n",
       "      <td>30.000</td>\n",
       "      <td>30.000</td>\n",
       "      <td>30.000</td>\n",
       "      <td>30.000</td>\n",
       "      <td>30.000</td>\n",
       "      <td>30.000</td>\n",
       "    </tr>\n",
       "    <tr>\n",
       "      <th>1</th>\n",
       "      <td>30.000</td>\n",
       "      <td>30.000</td>\n",
       "      <td>30.000</td>\n",
       "      <td>30.000</td>\n",
       "      <td>30.000</td>\n",
       "      <td>30.000</td>\n",
       "      <td>30.000</td>\n",
       "      <td>30.000</td>\n",
       "      <td>30.000</td>\n",
       "      <td>30.000</td>\n",
       "      <td>...</td>\n",
       "      <td>30.000</td>\n",
       "      <td>30.000</td>\n",
       "      <td>30.000</td>\n",
       "      <td>30.000</td>\n",
       "      <td>30.000</td>\n",
       "      <td>30.000</td>\n",
       "      <td>30.000</td>\n",
       "      <td>30.000</td>\n",
       "      <td>30.000</td>\n",
       "      <td>30.000</td>\n",
       "    </tr>\n",
       "    <tr>\n",
       "      <th>2</th>\n",
       "      <td>30.000</td>\n",
       "      <td>30.000</td>\n",
       "      <td>30.000</td>\n",
       "      <td>30.000</td>\n",
       "      <td>30.000</td>\n",
       "      <td>30.000</td>\n",
       "      <td>30.000</td>\n",
       "      <td>30.000</td>\n",
       "      <td>30.000</td>\n",
       "      <td>30.000</td>\n",
       "      <td>...</td>\n",
       "      <td>30.000</td>\n",
       "      <td>30.000</td>\n",
       "      <td>30.000</td>\n",
       "      <td>30.000</td>\n",
       "      <td>30.000</td>\n",
       "      <td>30.000</td>\n",
       "      <td>30.000</td>\n",
       "      <td>30.000</td>\n",
       "      <td>30.000</td>\n",
       "      <td>30.000</td>\n",
       "    </tr>\n",
       "    <tr>\n",
       "      <th>3</th>\n",
       "      <td>29.999</td>\n",
       "      <td>29.999</td>\n",
       "      <td>29.999</td>\n",
       "      <td>29.999</td>\n",
       "      <td>29.999</td>\n",
       "      <td>29.999</td>\n",
       "      <td>29.999</td>\n",
       "      <td>29.999</td>\n",
       "      <td>29.999</td>\n",
       "      <td>29.999</td>\n",
       "      <td>...</td>\n",
       "      <td>29.999</td>\n",
       "      <td>29.999</td>\n",
       "      <td>29.999</td>\n",
       "      <td>29.999</td>\n",
       "      <td>29.999</td>\n",
       "      <td>29.999</td>\n",
       "      <td>29.999</td>\n",
       "      <td>29.999</td>\n",
       "      <td>29.999</td>\n",
       "      <td>29.999</td>\n",
       "    </tr>\n",
       "    <tr>\n",
       "      <th>4</th>\n",
       "      <td>29.998</td>\n",
       "      <td>29.998</td>\n",
       "      <td>29.998</td>\n",
       "      <td>29.999</td>\n",
       "      <td>29.999</td>\n",
       "      <td>29.999</td>\n",
       "      <td>29.999</td>\n",
       "      <td>29.999</td>\n",
       "      <td>29.999</td>\n",
       "      <td>29.999</td>\n",
       "      <td>...</td>\n",
       "      <td>29.999</td>\n",
       "      <td>29.999</td>\n",
       "      <td>29.999</td>\n",
       "      <td>29.999</td>\n",
       "      <td>29.999</td>\n",
       "      <td>29.999</td>\n",
       "      <td>29.999</td>\n",
       "      <td>29.999</td>\n",
       "      <td>29.999</td>\n",
       "      <td>29.999</td>\n",
       "    </tr>\n",
       "  </tbody>\n",
       "</table>\n",
       "<p>5 rows × 121 columns</p>\n",
       "</div>"
      ],
      "text/plain": [
       "      0       1       2       3       4       5       6       7       8    \\\n",
       "0  30.000  30.000  30.000  30.000  30.000  30.000  30.000  30.000  30.000   \n",
       "1  30.000  30.000  30.000  30.000  30.000  30.000  30.000  30.000  30.000   \n",
       "2  30.000  30.000  30.000  30.000  30.000  30.000  30.000  30.000  30.000   \n",
       "3  29.999  29.999  29.999  29.999  29.999  29.999  29.999  29.999  29.999   \n",
       "4  29.998  29.998  29.998  29.999  29.999  29.999  29.999  29.999  29.999   \n",
       "\n",
       "      9    ...     111     112     113     114     115     116     117  \\\n",
       "0  30.000  ...  30.000  30.000  30.000  30.000  30.000  30.000  30.000   \n",
       "1  30.000  ...  30.000  30.000  30.000  30.000  30.000  30.000  30.000   \n",
       "2  30.000  ...  30.000  30.000  30.000  30.000  30.000  30.000  30.000   \n",
       "3  29.999  ...  29.999  29.999  29.999  29.999  29.999  29.999  29.999   \n",
       "4  29.999  ...  29.999  29.999  29.999  29.999  29.999  29.999  29.999   \n",
       "\n",
       "      118     119     120  \n",
       "0  30.000  30.000  30.000  \n",
       "1  30.000  30.000  30.000  \n",
       "2  30.000  30.000  30.000  \n",
       "3  29.999  29.999  29.999  \n",
       "4  29.999  29.999  29.999  \n",
       "\n",
       "[5 rows x 121 columns]"
      ]
     },
     "execution_count": 3,
     "metadata": {},
     "output_type": "execute_result"
    }
   ],
   "source": [
    "import pandas as pd\n",
    "import numpy as np\n",
    "\n",
    "# File to Load (Remember to Change These)\n",
    "file_to_load = \"data\\PendulumData.csv\"\n",
    "\n",
    "# Read Purchasing File and store into Pandas data frame\n",
    "pendulum_csv = pd.read_csv(file_to_load,header=None)\n",
    "pendulum_csv.head()"
   ]
  },
  {
   "cell_type": "code",
   "execution_count": 4,
   "metadata": {},
   "outputs": [
    {
     "data": {
      "text/plain": [
       "array([[0.97673377, 0.97777956, 0.9786896 , ..., 0.99377518, 0.99393889,\n",
       "        0.99408616],\n",
       "       [0.97673377, 0.97777956, 0.9786896 , ..., 0.99377518, 0.99393889,\n",
       "        0.99408616],\n",
       "       [0.97673377, 0.97777956, 0.9786896 , ..., 0.99377518, 0.99393889,\n",
       "        0.99408616],\n",
       "       ...,\n",
       "       [0.01776548, 0.2461711 , 0.55136801, ..., 0.37159699, 0.47960198,\n",
       "        0.58019195],\n",
       "       [0.0172378 , 0.24487344, 0.54995106, ..., 0.37080279, 0.47880264,\n",
       "        0.57942547],\n",
       "       [0.0167261 , 0.24357578, 0.54853411, ..., 0.37000859, 0.47800495,\n",
       "        0.57865733]])"
      ]
     },
     "execution_count": 4,
     "metadata": {},
     "output_type": "execute_result"
    }
   ],
   "source": [
    "from sklearn.preprocessing import MinMaxScaler\n",
    "mms = MinMaxScaler()\n",
    "pendulum_csv=mms.fit_transform(pendulum_csv.iloc[:])\n",
    "pendulum_csv"
   ]
  },
  {
   "cell_type": "code",
   "execution_count": 5,
   "metadata": {},
   "outputs": [],
   "source": [
    "nm=11\n",
    "nl=11\n",
    "m0=1\n",
    "l0=1\n",
    "deltal=0.1\n",
    "deltam=0.1\n",
    "t=np.arange(0,5/5,0.001/5)\n",
    "l_np=np.arange(l0-l0,nl*deltal/l0,deltal)\n",
    "m_np=np.arange(m0-m0,nm*deltam/m0,deltam)\n",
    "\n",
    "X=[]\n",
    "Y=[]\n",
    "for i in range(1,nl+1):\n",
    "    for j in range(1,nm+1):\n",
    "        preX=np.column_stack((t,l_np[i-1].repeat(len(t)),m_np[j-1].repeat(len(t))))\n",
    "        X.append(preX)\n",
    "        Y.append(pendulum_csv[:,nl*(i-1)+j-1])\n",
    "X_array=np.array(X)\n",
    "X=X_array.reshape(605000,3)\n",
    "Y_array=np.array(Y)\n",
    "Y=Y_array.reshape(605000,1)\n"
   ]
  },
  {
   "cell_type": "code",
   "execution_count": 6,
   "metadata": {},
   "outputs": [],
   "source": [
    "import random\n",
    "index = [i for i in range(len(Y))] \n",
    "random.shuffle(index)\n",
    "X = X[index,:]\n",
    "Y = Y[index,:]"
   ]
  },
  {
   "cell_type": "code",
   "execution_count": 7,
   "metadata": {},
   "outputs": [
    {
     "data": {
      "text/plain": [
       "(torch.Size([605000, 3]), torch.Size([605000, 1]))"
      ]
     },
     "execution_count": 7,
     "metadata": {},
     "output_type": "execute_result"
    }
   ],
   "source": [
    "X = torch.tensor(X, dtype=torch.float)\n",
    "Y = torch.tensor(Y, dtype=torch.float)\n",
    "X.shape, Y.shape"
   ]
  },
  {
   "cell_type": "code",
   "execution_count": 8,
   "metadata": {},
   "outputs": [
    {
     "data": {
      "text/plain": [
       "(torch.Size([505000, 3]), torch.Size([100000, 3]))"
      ]
     },
     "execution_count": 8,
     "metadata": {},
     "output_type": "execute_result"
    }
   ],
   "source": [
    "N=-100000\n",
    "X_train, X_test = X[:N], X[N:]\n",
    "Y_train, Y_test = Y[:N], Y[N:]\n",
    "trainloader = DataLoader(TensorDataset(X_train, Y_train), 512, True)\n",
    "X_train.shape, X_test.shape"
   ]
  },
  {
   "cell_type": "code",
   "execution_count": 9,
   "metadata": {},
   "outputs": [
    {
     "name": "stdout",
     "output_type": "stream",
     "text": [
      "Using cuda device\n"
     ]
    }
   ],
   "source": [
    "device = \"cuda\" if torch.cuda.is_available() else \"cpu\"\n",
    "print(f\"Using {device} device\")"
   ]
  },
  {
   "cell_type": "code",
   "execution_count": 10,
   "metadata": {},
   "outputs": [],
   "source": [
    "# 定义模型类\n",
    "#class MyDNN(nn.Module):\n",
    "#    def __init__(self):\n",
    "#        super(MyDNN, self).__init__()\n",
    "#        self.fc1 = nn.Linear(3, 512)\n",
    "#        self.fc2 = nn.Linear(256, 32)\n",
    "#        self.fc3 = nn.Linear(128, 1)\n",
    "#        self.relu = nn.ReLU()\n",
    "#        self.sigmoid = nn.Sigmoid()\n",
    "\n",
    "#    def forward(self, x):\n",
    "#        x = self.relu(self.fc1(x))\n",
    "#        x = self.relu(self.fc2(x))\n",
    "#        x = self.sigmoid(self.fc3(x))\n",
    "#        return x"
   ]
  },
  {
   "cell_type": "code",
   "execution_count": 11,
   "metadata": {},
   "outputs": [],
   "source": [
    "class MyDNN(nn.Module):\n",
    "    def __init__(self, input_size, hiddens=[256, 256, 256]):\n",
    "        super().__init__()\n",
    "        self.hiddens = hiddens\n",
    "        self.net = nn.Sequential(nn.Flatten())\n",
    "        for pre, nxt in zip([input_size]+hiddens[:-1], hiddens):\n",
    "            self.net.add_module(str(len(self.net)),nn.Linear(pre, nxt))\n",
    "            self.net.add_module(str(len(self.net)),nn.ReLU())\n",
    "        self.net.add_module(str(len(self.net)),nn.Linear(hiddens[-1], 1))\n",
    "        \n",
    "    def forward(self, x):\n",
    "        return self.net(x)"
   ]
  },
  {
   "cell_type": "code",
   "execution_count": 12,
   "metadata": {},
   "outputs": [],
   "source": [
    "# 创建模型实例\n",
    "modelDNN = MyDNN(3).to(device)\n",
    "\n",
    "# 定义损失函数和优化器\n",
    "criterion = nn.MSELoss()\n",
    "optimizer = torch.optim.Adam(modelDNN.parameters(), lr=0.001)"
   ]
  },
  {
   "cell_type": "code",
   "execution_count": 13,
   "metadata": {},
   "outputs": [
    {
     "name": "stdout",
     "output_type": "stream",
     "text": [
      "4 0.16124308109283447 0.16148599982261658\n",
      "9 0.13426753878593445 0.13374198973178864\n",
      "14 0.1236962378025055 0.1233915239572525\n",
      "19 0.12494567781686783 0.1248195469379425\n",
      "24 0.1222640722990036 0.1219324991106987\n",
      "29 0.11941906064748764 0.11921660602092743\n",
      "34 0.11794791370630264 0.11774370819330215\n",
      "39 0.11603401601314545 0.11582741886377335\n",
      "44 0.11394840478897095 0.11376915872097015\n",
      "49 0.11156196147203445 0.11138183623552322\n",
      "54 0.10878132283687592 0.10861404985189438\n",
      "59 0.10567834973335266 0.10552496463060379\n",
      "64 0.10222122818231583 0.10206811875104904\n",
      "69 0.09845070540904999 0.09830702841281891\n",
      "74 0.09443917125463486 0.09430195391178131\n",
      "79 0.09016302973031998 0.09002979099750519\n",
      "84 0.0855453759431839 0.08541849255561829\n",
      "89 0.08041200786828995 0.08029284328222275\n",
      "94 0.07440689206123352 0.07429569959640503\n",
      "99 0.06686525046825409 0.06676997244358063\n",
      "104 0.057487696409225464 0.057413045316934586\n",
      "109 0.0464065819978714 0.046363260596990585\n",
      "114 0.034625086933374405 0.03459445387125015\n",
      "119 0.027418699115514755 0.02736506797373295\n",
      "124 0.01698474958539009 0.016946613788604736\n",
      "129 0.013202859088778496 0.013181840069591999\n",
      "134 0.008711691945791245 0.008694902993738651\n",
      "139 0.0070319874212145805 0.007026554550975561\n",
      "144 0.00589178130030632 0.0058904979377985\n",
      "149 0.004734446294605732 0.004735858645290136\n",
      "154 0.004115440417081118 0.004121745005249977\n",
      "159 0.003732420038431883 0.0037383120507001877\n",
      "164 0.0035151566844433546 0.0035176556557416916\n",
      "169 0.0031538710463792086 0.003156013786792755\n",
      "174 0.003185956971719861 0.003189950482919812\n",
      "179 0.0031710187904536724 0.0031718474347144365\n",
      "184 0.00260037905536592 0.002601952524855733\n",
      "189 0.002729273634031415 0.002732260152697563\n",
      "194 0.0024022189900279045 0.0024025514721870422\n",
      "199 0.0022771297954022884 0.0022773011587560177\n",
      "204 0.0025042707566171885 0.002507395576685667\n",
      "209 0.002837092848494649 0.0028341987635940313\n",
      "214 0.0022739686537534 0.0022702624555677176\n",
      "219 0.0018728263676166534 0.001869297120720148\n",
      "224 0.001818017102777958 0.0018147914670407772\n",
      "229 0.0018139479216188192 0.0018100569723173976\n",
      "234 0.0016093680169433355 0.0016033563297241926\n",
      "239 0.0015895471442490816 0.0015811114571988583\n",
      "244 0.0014420050429180264 0.0014339376939460635\n",
      "249 0.001349889556877315 0.0013404627097770572\n",
      "254 0.0012987618101760745 0.0012878765119239688\n",
      "259 0.0019095492316409945 0.0019026424270123243\n",
      "264 0.0024673661682754755 0.002452583983540535\n",
      "269 0.0011949576437473297 0.001180626917630434\n",
      "274 0.0012833891669288278 0.0012723226100206375\n",
      "279 0.0013670686166733503 0.0013563534012064338\n",
      "284 0.0009095987188629806 0.0008957303944043815\n",
      "289 0.0009231418953277171 0.0009073101100511849\n",
      "294 0.0008744765655137599 0.0008584590977989137\n",
      "299 0.0007452346035279334 0.0007298063719645143\n",
      "304 0.0006800375413149595 0.000665190105792135\n",
      "309 0.0006403258303180337 0.0006259078509174287\n",
      "314 0.0005988627090118825 0.0005849089357070625\n",
      "319 0.0005563688464462757 0.0005428457516245544\n",
      "324 0.000515994499437511 0.0005029630847275257\n",
      "329 0.00047892346628941596 0.0004663927247747779\n",
      "334 0.0004461203352548182 0.0004342134634498507\n",
      "339 0.0004175259673502296 0.0004061496292706579\n",
      "344 0.00038986653089523315 0.00037915000575594604\n",
      "349 0.00036395282950252295 0.000354028947185725\n",
      "354 0.00034124168450944126 0.0003319959214422852\n",
      "359 0.0003202352672815323 0.0003115716972388327\n",
      "364 0.00030087458435446024 0.0002928893663920462\n",
      "369 0.00028444037889130414 0.0002769579878076911\n",
      "374 0.00028571937582455575 0.00027906635659746826\n",
      "379 0.0006669729482382536 0.0006604771479032934\n",
      "384 0.0036754801403731108 0.0036770475562661886\n",
      "389 0.0018073529936373234 0.0018064003670588136\n",
      "394 0.0005409184959717095 0.0005369404680095613\n",
      "399 0.0003160873893648386 0.00031026077340357006\n",
      "404 0.0005222419858910143 0.0005165845504961908\n",
      "409 0.00022563905804418027 0.0002205219934694469\n",
      "414 0.0002515678061172366 0.0002475935034453869\n",
      "419 0.00024768494768068194 0.0002440096577629447\n",
      "424 0.00018361136608291417 0.0001798315643100068\n",
      "429 0.00017721204494591802 0.0001734290854074061\n",
      "434 0.0001785593485692516 0.0001750580413499847\n",
      "439 0.0001684150192886591 0.00016520274220965803\n",
      "444 0.00015759524831082672 0.00015464112220797688\n",
      "449 0.00015014394011814147 0.0001474346499890089\n",
      "454 0.00014478965022135526 0.00014226285566110164\n",
      "459 0.00014034059131518006 0.00013800057058688253\n",
      "464 0.00013630936155095696 0.00013413684791885316\n",
      "469 0.00013259286060929298 0.00013059674529358745\n",
      "474 0.00012914212129544467 0.00012729890295304358\n",
      "479 0.000125895778182894 0.00012420749408192933\n",
      "484 0.00012278549547772855 0.00012123683700338006\n",
      "489 0.00011982153228018433 0.00011841225204989314\n",
      "494 0.0001170960531453602 0.00011582580191316083\n",
      "499 0.000114573682367336 0.00011342776997480541\n"
     ]
    }
   ],
   "source": [
    "# 开始训练\n",
    "for epoch in range(500):\n",
    "    optimizer.zero_grad()\n",
    "    outputs = modelDNN(X_train.to(device))\n",
    "    loss = criterion(outputs*3600, Y_train.to(device)*3600)*3600\n",
    "    loss.backward()\n",
    "    optimizer.step()\n",
    "    if (epoch+1) % 5 ==0:\n",
    "        with torch.no_grad():\n",
    "            train_pred = modelDNN(X_train.to(device))\n",
    "            train_mse = criterion(train_pred.to(device), Y_train.to(device))\n",
    "            test_pred = modelDNN(X_test.to(device))\n",
    "            test_mse = criterion(test_pred, Y_test.to(device))\n",
    "            print(epoch, train_mse.item(), test_mse.item())"
   ]
  },
  {
   "cell_type": "code",
   "execution_count": 14,
   "metadata": {},
   "outputs": [
    {
     "name": "stdout",
     "output_type": "stream",
     "text": [
      "tensor([[ 30.4684],\n",
      "        [-24.1012]], device='cuda:0', grad_fn=<SubBackward0>)\n"
     ]
    }
   ],
   "source": [
    "sc=60\n",
    "pred_test = torch.tensor([[0, 0, 0], [1, 0, 0]], dtype=torch.float32)\n",
    "predictions = modelDNN(pred_test.to(device))*sc-30\n",
    "print(predictions)"
   ]
  },
  {
   "cell_type": "markdown",
   "metadata": {},
   "source": [
    "# 测试区"
   ]
  },
  {
   "cell_type": "code",
   "execution_count": 15,
   "metadata": {},
   "outputs": [
    {
     "name": "stdout",
     "output_type": "stream",
     "text": [
      "R2= 0.9990705872551898 \n",
      "MSE 0.4124652565224096 \n",
      "RMSE 0.6422345806030766\n"
     ]
    },
    {
     "data": {
      "image/png": "[encoded data removed]",
      "text/plain": [
       "<Figure size 432x288 with 1 Axes>"
      ]
     },
     "metadata": {
      "needs_background": "light"
     },
     "output_type": "display_data"
    }
   ],
   "source": [
    "DNNpredtrain=modelDNN(X_train.to(device)).cpu().detach().numpy()\n",
    "\n",
    "#\n",
    "plt.plot(Y_train)\n",
    "plt.plot(DNNpredtrain)\n",
    "\n",
    "R2=r2_score(Y_train,DNNpredtrain)\n",
    "MSE=mean_squared_error(Y_train,DNNpredtrain)*sc*sc\n",
    "RMSE=np.sqrt(MSE)\n",
    "print('R2=',R2,'\\nMSE',MSE,'\\nRMSE',RMSE)"
   ]
  },
  {
   "cell_type": "code",
   "execution_count": 16,
   "metadata": {},
   "outputs": [
    {
     "name": "stdout",
     "output_type": "stream",
     "text": [
      "R2= 0.9990780091403242 \n",
      "MSE 0.4083399457158521 \n",
      "RMSE 0.6390148243318398\n"
     ]
    },
    {
     "data": {
      "image/png": "[encoded data removed]",
      "text/plain": [
       "<Figure size 432x288 with 1 Axes>"
      ]
     },
     "metadata": {
      "needs_background": "light"
     },
     "output_type": "display_data"
    }
   ],
   "source": [
    "DNNpred=modelDNN(X_test.to(device)).cpu().detach().numpy()\n",
    "\n",
    "#\n",
    "plt.plot(Y_test)\n",
    "plt.plot(DNNpred)\n",
    "#R2=sum(y_test*y_test-DNNpred*DNNpred)/N\n",
    "\n",
    "R2=r2_score(Y_test,DNNpred)\n",
    "MSE=mean_squared_error(Y_test,DNNpred)*sc*sc\n",
    "RMSE=np.sqrt(MSE)\n",
    "print('R2=',R2,'\\nMSE',MSE,'\\nRMSE',RMSE)"
   ]
  },
  {
   "cell_type": "markdown",
   "metadata": {},
   "source": [
    "# 保存模型"
   ]
  },
  {
   "cell_type": "code",
   "execution_count": 17,
   "metadata": {},
   "outputs": [],
   "source": [
    "torch.save(modelDNN, 'modelDNN.pth')"
   ]
  }
 ],
 "metadata": {
  "kernelspec": {
   "display_name": "Python 3",
   "language": "python",
   "name": "python3"
  },
  "language_info": {
   "codemirror_mode": {
    "name": "ipython",
    "version": 3
   },
   "file_extension": ".py",
   "mimetype": "text/x-python",
   "name": "python",
   "nbconvert_exporter": "python",
   "pygments_lexer": "ipython3",
   "version": "3.8.7"
  }
 },
 "nbformat": 4,
 "nbformat_minor": 2
}
